{
 "cells": [
  {
   "cell_type": "markdown",
   "id": "dae88bfe-1a9c-4150-81d9-dce16ab55be4",
   "metadata": {},
   "source": [
    "### Convert RGBA Array to Bitmap Image (Spectrogram)"
   ]
  },
  {
   "cell_type": "code",
   "execution_count": 3,
   "id": "806459d4-c9e8-4e04-ac9f-951f09548f6a",
   "metadata": {},
   "outputs": [],
   "source": [
    "def array_to_bitmap(rgba_array, out_basename):\n",
    "\n",
    "    if rgba_array.ndim != 3 or rgba_array.shape[2] != 4:\n",
    "        raise ValueError(\"Expected an array for RGBA data\")\n",
    "\n",
    "    # Convert to uint8 \n",
    "    rgba_uint8 = (rgba_array * 255).astype(np.uint8)\n",
    "\n",
    "    # Create image and save as bitmap\n",
    "    bmp_filename = f\"{out_basename}.bmp\"\n",
    "    img = Image.fromarray(rgba_uint8, mode=\"RGBA\")\n",
    "    img.save(bmp_filename)\n"
   ]
  },
  {
   "cell_type": "markdown",
   "id": "0b4f8502-ae9e-4826-813c-56370c9e909e",
   "metadata": {},
   "source": [
    "### Divide Large IQ Sample Input into Spectrogram Dictated Sample Counts"
   ]
  },
  {
   "cell_type": "code",
   "execution_count": 11,
   "id": "4cbc4fff-a00c-47be-843d-baf03e91d5b9",
   "metadata": {},
   "outputs": [],
   "source": [
    "def IQsample_load(file, c):\n",
    "    # Number of spectrograms to be generated\n",
    "    num_spectrograms = math.floor(os.path.getsize(file) / (c * 8))\n",
    "\n",
    "    # Folder name based on c\n",
    "    if c == 33024:\n",
    "        folder_name = '256x256'\n",
    "    elif c == 65664:\n",
    "        folder_name = '256x512'\n",
    "    elif c == 131328:\n",
    "        folder_name = '512x512'\n",
    "    elif c == 262400:\n",
    "        folder_name = '512x1024'\n",
    "    elif c == 524800:\n",
    "        folder_name = '1024x1024'\n",
    "    else:\n",
    "        raise ValueError(f\"Unknown c value: {c}\")\n",
    "\n",
    "    # Ensure folder exists\n",
    "    os.makedirs(folder_name, exist_ok=True)\n",
    "\n",
    "    # Read and save samples\n",
    "    offset = 0\n",
    "    for counter in range(num_spectrograms):\n",
    "        # Read one block of IQ samples\n",
    "        iq_sample = np.fromfile(file, dtype=np.complex64, count=c, offset=offset)\n",
    "\n",
    "        # Save it to its own binary file\n",
    "        out_path = os.path.join(folder_name, f'sample_{counter}.bin')\n",
    "        iq_sample.tofile(out_path)\n",
    "\n",
    "        # Update offset (8 bytes per complex64 sample)\n",
    "        offset += c * 8"
   ]
  },
  {
   "cell_type": "markdown",
   "id": "ca2c7f52-b79d-4077-82c1-71ae36409599",
   "metadata": {},
   "source": [
    "Spectrogram SciPy:\n",
    "\n",
    "* spectrogram(time_domain_input, sampling_freq, nsperg, noverlap, return_onesided)\n",
    "    * nperseg = # of samples per segment\n",
    "    * noverlap = number of samples to overlap between segments\n",
    "    * return_onesided = True (returns a two-sided spectrogram with real and complex)\n",
    "\n",
    "| Spectrogram Dimensions | nperseg | noverlap | Samples Needed|\n",
    "|:------:|:------:|:------:|:------:|\n",
    "| 256x256 | 256 | 128 | 33,024 |\n",
    "| 256x512 | 256 | 128 | 65,664 |\n",
    "| 512x512 | 512 | 256 | 131,328 |\n",
    "| 512x1024 | 512 | 256 | 262,400 |\n",
    "| 1024x1024 | 1024 | 512 | 524,800 |"
   ]
  },
  {
   "cell_type": "code",
   "execution_count": 6,
   "id": "325b6089-68e2-494d-8eac-173bbbf06fcb",
   "metadata": {},
   "outputs": [
    {
     "name": "stdout",
     "output_type": "stream",
     "text": [
      "2048\n",
      "170\n",
      "348160\n",
      "348160\n"
     ]
    },
    {
     "name": "stderr",
     "output_type": "stream",
     "text": [
      "/local_scratch/slurm.6686851/ipykernel_890814/1551677329.py:43: MatplotlibDeprecationWarning: The get_cmap function was deprecated in Matplotlib 3.7 and will be removed in 3.11. Use ``matplotlib.colormaps[name]`` or ``matplotlib.colormaps.get_cmap()`` or ``pyplot.get_cmap()`` instead.\n",
      "  color_map = cm.get_cmap('viridis')\n"
     ]
    }
   ],
   "source": [
    "import numpy as np\n",
    "import matplotlib.cm as cm\n",
    "import matplotlib.pyplot as plt\n",
    "import matplotlib.colors as colors\n",
    "from scipy.signal import spectrogram\n",
    "from PIL import Image\n",
    "\n",
    "# === CONFIG ===\n",
    "post_filename = \"Post-Channel/post_channel.iq\"\n",
    "pre_filename = \"Pre-Channel/pre_channel.iq\"\n",
    "fs = 23.04e6\n",
    "\n",
    "pre_out_image = \"spectrogram_pre.png\"\n",
    "post_out_image = \"spectrogram_post.png\"\n",
    "\n",
    "# Create individual Pre-Channel IQ files for each spectrogram\n",
    "IQsample_load(pre_filename, 65664)\n",
    "IQsample_load(pre_filename, 131328)\n",
    "IQsample_load(pre_filename, 262400)\n",
    "IQsample_load(pre_filename, 524800)\n",
    "\n",
    "# Create individual Post-Channel IQ files for each spectrogram\n",
    "IQsample_load(post_filename, 65664)\n",
    "IQsample_load(post_filename, 131328)\n",
    "IQsample_load(post_filename, 262400)\n",
    "IQsample_load(post_filename, 524800)"
   ]
  },
  {
   "cell_type": "code",
   "execution_count": null,
   "id": "3e765735-d1a9-4f13-897a-378f40e7e046",
   "metadata": {},
   "outputs": [],
   "source": [
    "# === COMPUTE SPECTROGRAM ===\n",
    "# Smag is power spectral density (amplitude squared)\n",
    "f_pre, t_pre, pre_Smag = spectrogram(pre_iq, fs=fs, nperseg=n, noverlap=512, return_onesided=False)\n",
    "f_post, t_post, post_Smag = spectrogram(post_iq, fs=fs, nperseg=n, noverlap=512, return_onesided=False)\n",
    "\n",
    "print(f_pre.size)\n",
    "print(t_pre.size)\n",
    "print(pre_Smag.size)\n",
    "print(post_Smag.size)\n",
    "# Convert power to power in decibels\n",
    "pre_Smag_dB = 10 * np.log10(pre_Smag + 1e-12) # +1e-12 prevents infinite log when spectrogram power = 0\n",
    "post_Smag_dB = 10 * np.log10(post_Smag + 1e-12)"
   ]
  },
  {
   "cell_type": "code",
   "execution_count": null,
   "id": "d72aae33-4c49-4c45-9b6f-c33d1f27189e",
   "metadata": {},
   "outputs": [],
   "source": [
    "# min and max values mapped to endpoints of colormap\n",
    "# 0db = full scale power, weak components -100db or less\n",
    "vmin, vmax = -120, 0 \n",
    "norm = colors.Normalize(vmin=vmin, vmax=vmax, clip=True)\n",
    "color_map = cm.get_cmap('viridis')\n",
    "# Map normalized data (RGBA floats in [R, G, B, A] values between 0-1)\n",
    "rgba_pre = color_map(norm(pre_Smag_dB))\n",
    "rgba_post = color_map(norm(post_Smag_dB))\n",
    "\n",
    "# Create a bitmap image from these RGBA values for pre and post-channel spectrograms\n",
    "array_to_bitmap(rgba_pre, \"spectrogram_pre\")\n",
    "array_to_bitmap(rgba_post, \"spectrogram_post\")"
   ]
  },
  {
   "cell_type": "code",
   "execution_count": null,
   "id": "d563af7c-18be-4acc-a87c-4a7fafc7fac5",
   "metadata": {},
   "outputs": [],
   "source": [
    "# === PLOT CLEAN SPECTROGRAM ===\n",
    "height_px = 1024\n",
    "width_px = 512\n",
    "plt.figure(figsize=(6, 4), frameon=False)\n",
    "plt.axis(\"off\")             # remove axes\n",
    "plt.imshow(pre_Smag_dB, aspect='auto', origin='lower', cmap='viridis')\n",
    "plt.subplots_adjust(left=0, right=1, top=1, bottom=0)  # remove all padding\n",
    "plt.margins(0, 0)\n",
    "plt.savefig(pre_out_image, dpi=300, bbox_inches='tight', pad_inches=0)\n",
    "plt.close()\n",
    "\n",
    "plt.figure(figsize=(6, 4), frameon=False)\n",
    "plt.axis(\"off\")             # remove axes\n",
    "plt.imshow(post_Smag_dB, aspect='auto', origin='lower', cmap='viridis')\n",
    "plt.subplots_adjust(left=0, right=1, top=1, bottom=0)  # remove all padding\n",
    "plt.margins(0, 0)\n",
    "plt.savefig(post_out_image, dpi=300, bbox_inches='tight', pad_inches=0)\n",
    "plt.close()"
   ]
  }
 ],
 "metadata": {
  "kernelspec": {
   "display_name": "Python 3 (ipykernel)",
   "language": "python",
   "name": "python3"
  },
  "language_info": {
   "codemirror_mode": {
    "name": "ipython",
    "version": 3
   },
   "file_extension": ".py",
   "mimetype": "text/x-python",
   "name": "python",
   "nbconvert_exporter": "python",
   "pygments_lexer": "ipython3",
   "version": "3.11.13"
  }
 },
 "nbformat": 4,
 "nbformat_minor": 5
}
